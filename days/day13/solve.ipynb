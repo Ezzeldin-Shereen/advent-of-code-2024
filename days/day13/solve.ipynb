{
 "cells": [
  {
   "cell_type": "code",
   "execution_count": 1,
   "metadata": {},
   "outputs": [],
   "source": [
    "import re\n",
    "import math\n",
    "with open(\"input.txt\", 'r') as f:\n",
    "    input = f.read()\n",
    "\n",
    "input1 = \"\"\"Button A: X+94, Y+34\n",
    "Button B: X+22, Y+67\n",
    "Prize: X=8400, Y=5400\n",
    "\n",
    "Button A: X+26, Y+66\n",
    "Button B: X+67, Y+21\n",
    "Prize: X=12748, Y=12176\n",
    "\n",
    "Button A: X+17, Y+86\n",
    "Button B: X+84, Y+37\n",
    "Prize: X=7870, Y=6450\n",
    "\n",
    "Button A: X+69, Y+23\n",
    "Button B: X+27, Y+71\n",
    "Prize: X=18641, Y=10279\"\"\"\n",
    "\n",
    "machines_str = input.split(\"\\n\\n\")\n",
    "machines = []\n",
    "for machine_str in machines_str:\n",
    "    lines = machine_str.split(\"\\n\")\n",
    "    ax = int(re.findall(\"X+.*,\", lines[0])[0][2:-1])\n",
    "    ay = int(re.findall(\"Y+.*\", lines[0])[0][2:])\n",
    "    bx = int(re.findall(\"X+.*,\", lines[1])[0][2:-1])\n",
    "    by = int(re.findall(\"Y+.*\", lines[1])[0][2:])\n",
    "    x = int(re.findall(\"X=.*,\", lines[2])[0][2:-1])\n",
    "    y = int(re.findall(\"Y=.*\", lines[2])[0][2:])\n",
    "\n",
    "    machines.append((ax, ay, bx, by, x, y))\n"
   ]
  },
  {
   "cell_type": "code",
   "execution_count": 2,
   "metadata": {},
   "outputs": [
    {
     "data": {
      "text/plain": [
       "31897"
      ]
     },
     "execution_count": 2,
     "metadata": {},
     "output_type": "execute_result"
    }
   ],
   "source": [
    "def solve_machine_bf(machine: tuple):\n",
    "    ax, ay, bx, by, x, y = machine\n",
    "    for na in range(101):\n",
    "        for nb in range(101):\n",
    "            sol_x = na*ax + nb*bx\n",
    "            sol_y = na*ay + nb*by\n",
    "            if sol_x == x and sol_y == y:\n",
    "                return na, nb, 3*na+nb\n",
    "    return 0, 0, 0\n",
    "\n",
    "def solve_machine(machine: tuple, offset=0, limit=True):\n",
    "    ax, ay, bx, by, x, y = machine\n",
    "\n",
    "    x += offset\n",
    "    y += offset\n",
    "\n",
    "    na = (x - y*bx/by) /  (ax - ay*bx/by)\n",
    "    nb = (x - na*ax) / bx\n",
    "\n",
    "    # round to avoid floatng point issues\n",
    "    na = round(na)\n",
    "    nb = round(nb)\n",
    "    \n",
    "    if limit and ((na not in range(101)) or (nb not in range(101))):\n",
    "        na, nb = 0, 0\n",
    "    else:\n",
    "        try:\n",
    "            assert na*ax + nb*bx == x\n",
    "            assert na*ay + nb*by == y\n",
    "        except:\n",
    "            # rounding was lossy\n",
    "            na, nb = 0, 0\n",
    "    \n",
    "    cost = 3*na + nb\n",
    "\n",
    "    return int(na), int(nb), int(cost)\n",
    "\n",
    "cost = [solve_machine_bf(machine)[2] for machine in machines]\n",
    "sum(cost)"
   ]
  },
  {
   "cell_type": "markdown",
   "metadata": {},
   "source": [
    "### Part 2"
   ]
  },
  {
   "cell_type": "code",
   "execution_count": 3,
   "metadata": {},
   "outputs": [],
   "source": [
    "offset = 10000000000000\n",
    "# debug my original function\n",
    "for machine in machines:\n",
    "    na1, nb1, cost1 = solve_machine_bf(machine)\n",
    "    na2, nb2, cost2 = solve_machine(machine)\n",
    "    if cost1 != cost2:\n",
    "        print(\"Correct\", na1, nb1, cost1)\n",
    "        print(\"Incorrect\", na2, nb2, cost2)\n",
    "        break"
   ]
  },
  {
   "cell_type": "code",
   "execution_count": 4,
   "metadata": {},
   "outputs": [
    {
     "data": {
      "text/plain": [
       "87596249540359"
      ]
     },
     "execution_count": 4,
     "metadata": {},
     "output_type": "execute_result"
    }
   ],
   "source": [
    "cost = [solve_machine(machine, offset=offset, limit=False)[2] for machine in machines]\n",
    "sum(cost)"
   ]
  }
 ],
 "metadata": {
  "kernelspec": {
   "display_name": "aoc_env",
   "language": "python",
   "name": "python3"
  },
  "language_info": {
   "codemirror_mode": {
    "name": "ipython",
    "version": 3
   },
   "file_extension": ".py",
   "mimetype": "text/x-python",
   "name": "python",
   "nbconvert_exporter": "python",
   "pygments_lexer": "ipython3",
   "version": "3.10.11"
  }
 },
 "nbformat": 4,
 "nbformat_minor": 2
}
