{
 "cells": [
  {
   "cell_type": "code",
   "execution_count": 1,
   "metadata": {},
   "outputs": [
    {
     "data": {
      "text/plain": [
       "array([[3, 4, 5, ..., 6, 5, 4],\n",
       "       [4, 3, 4, ..., 7, 2, 3],\n",
       "       [3, 2, 3, ..., 0, 1, 4],\n",
       "       ...,\n",
       "       [9, 6, 5, ..., 1, 0, 1],\n",
       "       [8, 7, 4, ..., 2, 1, 2],\n",
       "       [7, 6, 3, ..., 1, 0, 1]])"
      ]
     },
     "execution_count": 1,
     "metadata": {},
     "output_type": "execute_result"
    }
   ],
   "source": [
    "import numpy as np\n",
    "with open(\"input.txt\", 'r') as f:\n",
    "    input = f.read()\n",
    "\n",
    "input2 = \"\"\"89010123\n",
    "78121874\n",
    "87430965\n",
    "96549874\n",
    "45678903\n",
    "32019012\n",
    "01329801\n",
    "10456732\"\"\"\n",
    "\n",
    "topomap = np.array([list(row) for row in input.split(\"\\n\")]).astype(int)\n",
    "topomap"
   ]
  },
  {
   "cell_type": "code",
   "execution_count": 2,
   "metadata": {},
   "outputs": [
    {
     "data": {
      "text/plain": [
       "(674, 1372)"
      ]
     },
     "execution_count": 2,
     "metadata": {},
     "output_type": "execute_result"
    }
   ],
   "source": [
    "DIRECTIONS = [(-1, 0), # up\n",
    "              (0, 1),  # right\n",
    "              (1, 0),  # down\n",
    "              (0, -1)] # left\n",
    "\n",
    "def trail(topomap: np.array, trailhead_pos: tuple[int,int]):\n",
    "    if topomap[trailhead_pos] == 9:\n",
    "        return [trailhead_pos]\n",
    "    \n",
    "    destinations = []\n",
    "    for dir in DIRECTIONS:\n",
    "        new_pos = tuple(sum(x) for x in zip(trailhead_pos, dir))\n",
    "        if not ( (0 <= new_pos[0] < topomap.shape[0]) and  (0 <= new_pos[1] < topomap.shape[1]) ): continue\n",
    "        if topomap[new_pos] != topomap[trailhead_pos] + 1: continue\n",
    "        destinations.extend(trail(topomap, new_pos))\n",
    "    \n",
    "    return destinations\n",
    "\n",
    "def sum_trails(topomap, ths):\n",
    "    sum_score, sum_rating = 0, 0\n",
    "    for trailhead in ths:\n",
    "        destinations = trail(topomap, trailhead)\n",
    "        sum_score += len(set(destinations))\n",
    "        sum_rating += len(destinations)\n",
    "    return sum_score, sum_rating\n",
    "\n",
    "ths = np.where(topomap == 0)\n",
    "ths = [(int(ths[0][i]), int(ths[1][i])) for i in range(len(ths[0]))]\n",
    "score, rating = sum_trails(topomap, ths)\n",
    "score, rating"
   ]
  }
 ],
 "metadata": {
  "kernelspec": {
   "display_name": "aoc_env",
   "language": "python",
   "name": "python3"
  },
  "language_info": {
   "codemirror_mode": {
    "name": "ipython",
    "version": 3
   },
   "file_extension": ".py",
   "mimetype": "text/x-python",
   "name": "python",
   "nbconvert_exporter": "python",
   "pygments_lexer": "ipython3",
   "version": "3.10.11"
  }
 },
 "nbformat": 4,
 "nbformat_minor": 2
}
