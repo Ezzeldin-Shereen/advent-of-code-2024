{
 "cells": [
  {
   "cell_type": "code",
   "execution_count": 1,
   "metadata": {},
   "outputs": [],
   "source": [
    "import math\n",
    "from itertools import product\n",
    "\n",
    "with open(\"input.txt\", \"r\") as f:\n",
    "    input = f.read()\n",
    "\n",
    "input2 = \"\"\"............\n",
    "........0...\n",
    ".....0......\n",
    ".......0....\n",
    "....0.......\n",
    "......A.....\n",
    "............\n",
    "............\n",
    "........A...\n",
    ".........A..\n",
    "............\n",
    "............\"\"\"\n",
    "\n",
    "input = [list(line) for line in input.split(\"\\n\")]"
   ]
  },
  {
   "cell_type": "code",
   "execution_count": 2,
   "metadata": {},
   "outputs": [
    {
     "data": {
      "text/plain": [
       "280"
      ]
     },
     "execution_count": 2,
     "metadata": {},
     "output_type": "execute_result"
    }
   ],
   "source": [
    "# get all antennas and their locations\n",
    "def get_antenna_dict(input: list[list[str]]) -> dict:\n",
    "    d = {}\n",
    "    for i, row in enumerate(input):\n",
    "        for j, cell in enumerate(row):\n",
    "            if cell == \".\": continue\n",
    "            if not d.get(cell):\n",
    "                d[cell] = [(i,j)]\n",
    "            else:\n",
    "                d[cell].append((i,j))\n",
    "    return d\n",
    "\n",
    "def get_distance(node1: tuple, node2: tuple) -> float:\n",
    "    return math.sqrt((node1[0]-node2[0])**2 + (node1[1]-node2[1])**2)\n",
    "\n",
    "def get_dir(node1: tuple, node2: tuple) -> tuple:\n",
    "    dist = get_distance(node1, node2)\n",
    "    return (node2[1]-node1[1])/dist , (node2[0]-node1[0])/dist\n",
    "\n",
    "def tuples_equals(tup1, tup2):\n",
    "    return abs(tup1[0] - tup2[0]) < 1e-6 and abs(tup1[1] - tup2[1]) < 1e-6\n",
    "\n",
    "def is_antinode(antennas: dict, node: tuple, include_distance):\n",
    "    for freq, locs in antennas.items():\n",
    "        for loc_pairs in product(locs, repeat=2):\n",
    "            if node in loc_pairs and not include_distance: \n",
    "                return True\n",
    "            \n",
    "            if loc_pairs[0] == loc_pairs[1]: continue\n",
    "            \n",
    "            distance_condition = True\n",
    "            if include_distance:\n",
    "                distances = sorted([get_distance(node, loc_pairs[0]), get_distance(node, loc_pairs[1])])\n",
    "                if not all(distances): \n",
    "                    continue\n",
    "                distance_condition = (2*distances[0] == distances[1])\n",
    "            \n",
    "            directions = [get_dir(node, loc_pairs[0]), get_dir(node, loc_pairs[1])]\n",
    "            \n",
    "            if distance_condition and (tuples_equals(directions[0], directions[1]) or tuples_equals(directions[0], (-directions[1][0], -directions[1][1]))): \n",
    "                return True\n",
    "    return False\n",
    "\n",
    "def all_anitnodes(input, antennas, include_distance=True) -> list:\n",
    "    antinodes = []\n",
    "    for i, row in enumerate(input):\n",
    "        for j, cell in enumerate(row):\n",
    "            if is_antinode(antennas, (i,j), include_distance=include_distance):\n",
    "                antinodes.append((i,j))\n",
    "    return antinodes\n",
    "            \n",
    "antennas = get_antenna_dict(input)\n",
    "antinodes = all_anitnodes(input, antennas)\n",
    "len(antinodes)"
   ]
  },
  {
   "cell_type": "markdown",
   "metadata": {},
   "source": [
    "### Part 2 "
   ]
  },
  {
   "cell_type": "code",
   "execution_count": 3,
   "metadata": {},
   "outputs": [
    {
     "data": {
      "text/plain": [
       "958"
      ]
     },
     "execution_count": 3,
     "metadata": {},
     "output_type": "execute_result"
    }
   ],
   "source": [
    "antinodes_ext = all_anitnodes(input, antennas, include_distance=False)\n",
    "len(antinodes_ext)"
   ]
  }
 ],
 "metadata": {
  "kernelspec": {
   "display_name": "aoc_env",
   "language": "python",
   "name": "python3"
  },
  "language_info": {
   "codemirror_mode": {
    "name": "ipython",
    "version": 3
   },
   "file_extension": ".py",
   "mimetype": "text/x-python",
   "name": "python",
   "nbconvert_exporter": "python",
   "pygments_lexer": "ipython3",
   "version": "3.10.11"
  }
 },
 "nbformat": 4,
 "nbformat_minor": 2
}
