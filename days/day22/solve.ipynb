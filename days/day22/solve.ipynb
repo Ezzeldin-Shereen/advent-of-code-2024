{
 "cells": [
  {
   "cell_type": "code",
   "execution_count": 1,
   "metadata": {},
   "outputs": [],
   "source": [
    "import numpy as np\n",
    "with open(\"input.txt\", 'r') as f:\n",
    "    input = f.read()\n",
    "\n",
    "input1 = \"\"\"1\n",
    "10\n",
    "100\n",
    "2024\"\"\"\n",
    "\n",
    "input1 = \"\"\"1\n",
    "2\n",
    "3\n",
    "2024\"\"\"\n",
    "\n",
    "initial_secrets = [int(x) for x in input.split(\"\\n\")]"
   ]
  },
  {
   "cell_type": "code",
   "execution_count": 2,
   "metadata": {},
   "outputs": [
    {
     "data": {
      "text/plain": [
       "16894083306"
      ]
     },
     "execution_count": 2,
     "metadata": {},
     "output_type": "execute_result"
    }
   ],
   "source": [
    "NUM_STEPS = 2000\n",
    "NUM_MONKEYS = len(initial_secrets)\n",
    "\n",
    "\n",
    "def mix(a,b): return a^b\n",
    "\n",
    "def prune(a): return a%16777216\n",
    "\n",
    "def next_secret(secret: int):\n",
    "    secret = prune(mix(secret*64, secret))\n",
    "    secret = prune(mix(secret//32, secret))\n",
    "    secret = prune(mix(secret*2048, secret))\n",
    "    return secret\n",
    "\n",
    "def get_secret_after(secret: int, steps: int):\n",
    "    for i in range(steps):\n",
    "        secret = next_secret(secret)\n",
    "    return secret\n",
    "\n",
    "def get_all_secrets(secrets: list[int], steps: int):\n",
    "    return [get_secret_after(secret, steps) for secret in secrets]\n",
    "\n",
    "sum(get_all_secrets(initial_secrets, NUM_STEPS))\n"
   ]
  },
  {
   "cell_type": "markdown",
   "metadata": {},
   "source": [
    "### Part 2"
   ]
  },
  {
   "cell_type": "code",
   "execution_count": 3,
   "metadata": {},
   "outputs": [],
   "source": [
    "def get_price(secret: int): return secret%10\n",
    "\n",
    "def one_step_all_secrets(secrets: list[int]):\n",
    "    next_secrets =  [next_secret(s) for s in secrets]\n",
    "    changes = [get_price(next_secrets[i]) - get_price(s) for (i, s) in enumerate(secrets)]\n",
    "    prices = [get_price(s) for s in next_secrets]\n",
    "    return next_secrets, changes, prices\n",
    "\n",
    "def all_steps_all_secrets(secrets: list[int], steps: int):\n",
    "    prices_2d, changes_2d = [], []\n",
    "    for i in range(steps):\n",
    "        secrets, changes, prices = one_step_all_secrets(secrets)\n",
    "        changes_2d.append(changes)\n",
    "        prices_2d.append(prices)\n",
    "    return prices_2d, changes_2d\n",
    "\n",
    "\n",
    "prices_2d, changes_2d = all_steps_all_secrets(initial_secrets, steps=NUM_STEPS)\n",
    "prices_2d, changes_2d = np.array(prices_2d), np.array(changes_2d)"
   ]
  },
  {
   "cell_type": "code",
   "execution_count": 4,
   "metadata": {},
   "outputs": [
    {
     "name": "stdout",
     "output_type": "stream",
     "text": [
      "Monkey 0/2002\n",
      "Monkey 25/2002\n",
      "Monkey 50/2002\n",
      "Monkey 75/2002\n",
      "Monkey 100/2002\n",
      "Monkey 125/2002\n",
      "Monkey 150/2002\n",
      "Monkey 175/2002\n",
      "Monkey 200/2002\n",
      "Monkey 225/2002\n",
      "Monkey 250/2002\n",
      "Monkey 275/2002\n",
      "Monkey 300/2002\n",
      "Monkey 325/2002\n",
      "Monkey 350/2002\n",
      "Monkey 375/2002\n",
      "Monkey 400/2002\n",
      "Monkey 425/2002\n",
      "Monkey 450/2002\n",
      "Monkey 475/2002\n",
      "Monkey 500/2002\n",
      "Monkey 525/2002\n",
      "Monkey 550/2002\n",
      "Monkey 575/2002\n",
      "Monkey 600/2002\n",
      "Monkey 625/2002\n",
      "Monkey 650/2002\n",
      "Monkey 675/2002\n",
      "Monkey 700/2002\n",
      "Monkey 725/2002\n",
      "Monkey 750/2002\n",
      "Monkey 775/2002\n",
      "Monkey 800/2002\n",
      "Monkey 825/2002\n",
      "Monkey 850/2002\n",
      "Monkey 875/2002\n",
      "Monkey 900/2002\n",
      "Monkey 925/2002\n",
      "Monkey 950/2002\n",
      "Monkey 975/2002\n",
      "Monkey 1000/2002\n",
      "Monkey 1025/2002\n",
      "Monkey 1050/2002\n",
      "Monkey 1075/2002\n",
      "Monkey 1100/2002\n",
      "Monkey 1125/2002\n",
      "Monkey 1150/2002\n",
      "Monkey 1175/2002\n",
      "Monkey 1200/2002\n",
      "Monkey 1225/2002\n",
      "Monkey 1250/2002\n",
      "Monkey 1275/2002\n",
      "Monkey 1300/2002\n",
      "Monkey 1325/2002\n",
      "Monkey 1350/2002\n",
      "Monkey 1375/2002\n",
      "Monkey 1400/2002\n",
      "Monkey 1425/2002\n",
      "Monkey 1450/2002\n",
      "Monkey 1475/2002\n",
      "Monkey 1500/2002\n",
      "Monkey 1525/2002\n",
      "Monkey 1550/2002\n",
      "Monkey 1575/2002\n",
      "Monkey 1600/2002\n",
      "Monkey 1625/2002\n",
      "Monkey 1650/2002\n",
      "Monkey 1675/2002\n",
      "Monkey 1700/2002\n",
      "Monkey 1725/2002\n",
      "Monkey 1750/2002\n",
      "Monkey 1775/2002\n",
      "Monkey 1800/2002\n",
      "Monkey 1825/2002\n",
      "Monkey 1850/2002\n",
      "Monkey 1875/2002\n",
      "Monkey 1900/2002\n",
      "Monkey 1925/2002\n",
      "Monkey 1950/2002\n",
      "Monkey 1975/2002\n",
      "Monkey 2000/2002\n"
     ]
    },
    {
     "data": {
      "text/plain": [
       "((0, 0, -1, 1), 1925)"
      ]
     },
     "execution_count": 4,
     "metadata": {},
     "output_type": "execute_result"
    }
   ],
   "source": [
    "CACHE = {} # contains changes as keys and the summation of all prices achieved by these changes\n",
    "\n",
    "\n",
    "for m in range(NUM_MONKEYS):\n",
    "    # loop over buying monkeys\n",
    "    if m%25==0: print(f\"Monkey {m}/{NUM_MONKEYS}\")\n",
    "    covered_changes = []\n",
    "    for t in range(3, NUM_STEPS):\n",
    "        # loop over time\n",
    "        change4 = tuple([int(x) for x in changes_2d[t-3:t+1,m]])\n",
    "        price = int(prices_2d[t,m])\n",
    "        if change4 in covered_changes: continue\n",
    "        if CACHE.get(change4, -1) != -1:\n",
    "            CACHE[change4] += price\n",
    "        else:\n",
    "            CACHE[change4] = price\n",
    "        covered_changes.append(change4)\n",
    "\n",
    "\n",
    "best_4_changes = max(CACHE, key=CACHE.get)\n",
    "best_4_changes, CACHE[best_4_changes]"
   ]
  }
 ],
 "metadata": {
  "kernelspec": {
   "display_name": "aoc_env",
   "language": "python",
   "name": "python3"
  },
  "language_info": {
   "codemirror_mode": {
    "name": "ipython",
    "version": 3
   },
   "file_extension": ".py",
   "mimetype": "text/x-python",
   "name": "python",
   "nbconvert_exporter": "python",
   "pygments_lexer": "ipython3",
   "version": "3.10.11"
  }
 },
 "nbformat": 4,
 "nbformat_minor": 2
}
