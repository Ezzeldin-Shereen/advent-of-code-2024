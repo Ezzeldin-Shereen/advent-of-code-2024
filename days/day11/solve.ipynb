{
 "cells": [
  {
   "cell_type": "code",
   "execution_count": 1,
   "metadata": {},
   "outputs": [
    {
     "data": {
      "text/plain": [
       "[3935565, 31753, 437818, 7697, 5, 38, 0, 123]"
      ]
     },
     "execution_count": 1,
     "metadata": {},
     "output_type": "execute_result"
    }
   ],
   "source": [
    "with open(\"input.txt\", 'r') as f:\n",
    "    input = f.read()\n",
    "\n",
    "input2 = \"125 17\"\n",
    "\n",
    "input = [int(x) for x in input.split(\" \")]\n",
    "input"
   ]
  },
  {
   "cell_type": "code",
   "execution_count": 2,
   "metadata": {},
   "outputs": [
    {
     "data": {
      "text/plain": [
       "207683"
      ]
     },
     "execution_count": 2,
     "metadata": {},
     "output_type": "execute_result"
    }
   ],
   "source": [
    "def update_number(x: int) -> list[int]:\n",
    "    if  x == 0: return [1]\n",
    "\n",
    "    n_digits = len(str(x))\n",
    "    if n_digits % 2 == 0:\n",
    "        return [int(str(x)[:n_digits//2]), int(str(x)[n_digits//2:])]\n",
    "    \n",
    "    return [x * 2024]\n",
    "\n",
    "def transform(stones: list[int], n_times: int):\n",
    "\n",
    "    for i in range(n_times):\n",
    "        result = []\n",
    "        for stone in stones:\n",
    "            result += update_number(stone)\n",
    "        stones = result\n",
    "    return result\n",
    "\n",
    "\n",
    "new_stones = transform(input, n_times=25)\n",
    "\n",
    "len(new_stones)"
   ]
  },
  {
   "cell_type": "markdown",
   "metadata": {},
   "source": [
    "### Part 2"
   ]
  },
  {
   "cell_type": "code",
   "execution_count": 3,
   "metadata": {},
   "outputs": [
    {
     "data": {
      "text/plain": [
       "244782991106220"
      ]
     },
     "execution_count": 3,
     "metadata": {},
     "output_type": "execute_result"
    }
   ],
   "source": [
    "def stones_2_dict(stones: list[int], reps=1):\n",
    "    return {v: stones.count(v)*reps for v in set(stones)}\n",
    "\n",
    "def update_dict_counts(dicts: list[dict]):\n",
    "    combined_dict = {}\n",
    "    all_keys = []\n",
    "\n",
    "    for d in dicts:\n",
    "        all_keys += d.keys()\n",
    "    all_keys = set(all_keys)\n",
    "\n",
    "    for stone in set(all_keys):\n",
    "        combined_dict[stone] = sum([d.get(stone, 0) for d in dicts])\n",
    "\n",
    "    return combined_dict\n",
    "\n",
    "\n",
    "def transform_with_counts(count_dict: dict, n_times: int):\n",
    "    for i in range(n_times):\n",
    "        cd_outs = []\n",
    "        for stone, count in count_dict.items():\n",
    "            output = update_number(stone) # get the stones resulting from this one stone\n",
    "            cd_outs.append(stones_2_dict(output, count))\n",
    "        \n",
    "        count_dict = update_dict_counts(cd_outs)\n",
    "    return count_dict\n",
    "\n",
    "def get_dict_len(d: dict):\n",
    "    return sum([count for val, count in d.items()])\n",
    "\n",
    "\n",
    "counts_dict = stones_2_dict(input, reps=1)\n",
    "full_dict = transform_with_counts(counts_dict, n_times=75)\n",
    "full_dict\n",
    "get_dict_len(full_dict) # 244782991106220\n"
   ]
  }
 ],
 "metadata": {
  "kernelspec": {
   "display_name": "aoc_env",
   "language": "python",
   "name": "python3"
  },
  "language_info": {
   "codemirror_mode": {
    "name": "ipython",
    "version": 3
   },
   "file_extension": ".py",
   "mimetype": "text/x-python",
   "name": "python",
   "nbconvert_exporter": "python",
   "pygments_lexer": "ipython3",
   "version": "3.10.11"
  }
 },
 "nbformat": 4,
 "nbformat_minor": 2
}
