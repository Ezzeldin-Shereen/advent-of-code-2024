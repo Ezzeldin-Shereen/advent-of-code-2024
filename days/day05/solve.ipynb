{
 "cells": [
  {
   "cell_type": "code",
   "execution_count": 1,
   "metadata": {},
   "outputs": [],
   "source": [
    "with open('input.txt', 'r') as f:\n",
    "    input = f.read()\n",
    "input\n",
    "\n",
    "input2 = \"\"\"47|53\n",
    "97|13\n",
    "97|61\n",
    "97|47\n",
    "75|29\n",
    "61|13\n",
    "75|53\n",
    "29|13\n",
    "97|29\n",
    "53|29\n",
    "61|53\n",
    "97|53\n",
    "61|29\n",
    "47|13\n",
    "75|47\n",
    "97|75\n",
    "47|61\n",
    "75|61\n",
    "47|29\n",
    "75|13\n",
    "53|13\n",
    "\n",
    "75,47,61,53,29\n",
    "97,61,53,29,13\n",
    "75,29,13\n",
    "75,97,47,61,53\n",
    "61,13,29\n",
    "97,13,75,29,47\"\"\"\n",
    "\n",
    "rules = input.split(\"\\n\\n\")[0].split(\"\\n\")\n",
    "orders = input.split(\"\\n\\n\")[1].split(\"\\n\")\n",
    "rules = [rule.split(\"|\") for rule in rules]\n",
    "orders = [order.split(\",\") for order in orders]"
   ]
  },
  {
   "cell_type": "code",
   "execution_count": 2,
   "metadata": {},
   "outputs": [],
   "source": [
    "def relevant_rules(order: list, rules: list):\n",
    "    return [rule for rule in rules if (rule[0] in order and rule[1] in order)]\n",
    "\n",
    "def update_rules_after_page(rules: list, page: int):\n",
    "    # removes rules for the first page in the list\n",
    "    return [rule for rule in rules if rule[0]!=page]\n",
    "\n",
    "def update_rules_before_page(rules: list, page: int):\n",
    "    # removes rules for the last page in the list\n",
    "    return [rule for rule in rules if rule[1]!=page]\n",
    "\n",
    "def is_page_required_earlier(rules: list, page: int) -> bool:\n",
    "    # returns true if this page cannot be the last to print \n",
    "    return any([rule[0]==page for rule in rules])\n",
    "\n",
    "def is_order_valid(order: list, rules: list) -> bool:\n",
    "    while len(order) > 0:\n",
    "        page = order[-1]\n",
    "        if is_page_required_earlier(rules, page): return False\n",
    "        rules = update_rules_before_page(rules, page)\n",
    "        order = order[:-1]\n",
    "    return True\n",
    "\n",
    "def compute_sum_middles(orders: list) -> int:\n",
    "    return sum([int(order[len(order)//2]) for order in orders])"
   ]
  },
  {
   "cell_type": "code",
   "execution_count": 3,
   "metadata": {},
   "outputs": [
    {
     "data": {
      "text/plain": [
       "4637"
      ]
     },
     "execution_count": 3,
     "metadata": {},
     "output_type": "execute_result"
    }
   ],
   "source": [
    "valids = [is_order_valid(order, relevant_rules(order, rules)) for order in orders]\n",
    "valid_orders = [order for order in orders if is_order_valid(order, relevant_rules(order, rules))]\n",
    "compute_sum_middles(valid_orders)"
   ]
  },
  {
   "cell_type": "markdown",
   "metadata": {},
   "source": [
    "### Part 2"
   ]
  },
  {
   "cell_type": "code",
   "execution_count": 4,
   "metadata": {},
   "outputs": [],
   "source": [
    "invalid_orders = [order for order in orders if not is_order_valid(order, relevant_rules(order, rules))]"
   ]
  },
  {
   "cell_type": "code",
   "execution_count": 5,
   "metadata": {},
   "outputs": [],
   "source": [
    "\n",
    "def make_valid(order: list, rules: list) -> list:\n",
    "    # here the rules include only relevant ones\n",
    "    if len(order) == 0:\n",
    "        return []\n",
    "    for i in range(len(order)):\n",
    "        page = order[i]\n",
    "        if not is_page_required_earlier(rules, page):\n",
    "            reduced_rules = update_rules_before_page(rules, page)\n",
    "            del order[i]\n",
    "            return make_valid(order, reduced_rules) + [page]"
   ]
  },
  {
   "cell_type": "code",
   "execution_count": 6,
   "metadata": {},
   "outputs": [
    {
     "data": {
      "text/plain": [
       "6370"
      ]
     },
     "execution_count": 6,
     "metadata": {},
     "output_type": "execute_result"
    }
   ],
   "source": [
    "invalid_made_valid_orders = [make_valid(order, relevant_rules(order, rules)) for order in invalid_orders]\n",
    "compute_sum_middles(invalid_made_valid_orders)"
   ]
  }
 ],
 "metadata": {
  "kernelspec": {
   "display_name": "aoc_env",
   "language": "python",
   "name": "python3"
  },
  "language_info": {
   "codemirror_mode": {
    "name": "ipython",
    "version": 3
   },
   "file_extension": ".py",
   "mimetype": "text/x-python",
   "name": "python",
   "nbconvert_exporter": "python",
   "pygments_lexer": "ipython3",
   "version": "3.10.11"
  }
 },
 "nbformat": 4,
 "nbformat_minor": 2
}
