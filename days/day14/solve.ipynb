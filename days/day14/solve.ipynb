{
 "cells": [
  {
   "cell_type": "code",
   "execution_count": 1,
   "metadata": {},
   "outputs": [
    {
     "data": {
      "text/plain": [
       "[((62, 20), (85, -14)), ((88, 18), (-70, 97)), ((51, 21), (35, -22))]"
      ]
     },
     "execution_count": 1,
     "metadata": {},
     "output_type": "execute_result"
    }
   ],
   "source": [
    "import re\n",
    "with open(\"input.txt\", 'r') as f:\n",
    "    input = f.read()\n",
    "\n",
    "W, H = 101, 103\n",
    "\n",
    "# input = \"\"\"p=0,4 v=3,-3\n",
    "# p=6,3 v=-1,-3\n",
    "# p=10,3 v=-1,2\n",
    "# p=2,0 v=2,-1\n",
    "# p=0,0 v=1,3\n",
    "# p=3,0 v=-2,-2\n",
    "# p=7,6 v=-1,-3\n",
    "# p=3,0 v=-1,-2\n",
    "# p=9,3 v=2,3\n",
    "# p=7,3 v=-1,2\n",
    "# p=2,4 v=2,-3\n",
    "# p=9,5 v=-3,-3\"\"\"\n",
    "# W, H = 11, 7\n",
    "\n",
    "robostrings = input.split(\"\\n\")\n",
    "def extract(robostring: str):\n",
    "    poss = robostring.split(\" \")[0]\n",
    "    vels = robostring.split(\" \")[1]\n",
    "    \n",
    "    pos = ( int(poss.split(\"=\")[1].split(\",\")[0]) , int(poss.split(\"=\")[1].split(\",\")[1]) )\n",
    "    vel = ( int(vels.split(\"=\")[1].split(\",\")[0]) , int(vels.split(\"=\")[1].split(\",\")[1]) )\n",
    "\n",
    "    return pos, vel\n",
    "robos = [extract(robostring) for robostring in robostrings]\n",
    "robos[:3]\n"
   ]
  },
  {
   "cell_type": "code",
   "execution_count": 2,
   "metadata": {},
   "outputs": [
    {
     "data": {
      "text/plain": [
       "216027840"
      ]
     },
     "execution_count": 2,
     "metadata": {},
     "output_type": "execute_result"
    }
   ],
   "source": [
    "def predict(p: tuple, v: tuple, t: int) -> tuple:\n",
    "    new_x = (p[0] + t*v[0]) % W\n",
    "    new_y = (p[1] + t*v[1]) % H\n",
    "    return new_x, new_y\n",
    "\n",
    "\n",
    "def quadrants(pos: list[tuple]):\n",
    "    robos_q = [0]*4\n",
    "    for p in pos:\n",
    "        x, y = p\n",
    "        if x < W//2 and y < H//2:\n",
    "            robos_q[0] += 1\n",
    "        elif x < W//2 and y > H//2:\n",
    "            robos_q[1] += 1\n",
    "        elif x > W//2 and y < H//2:\n",
    "            robos_q[2] += 1\n",
    "        elif x > W//2 and y > H//2:\n",
    "            robos_q[3] += 1\n",
    "    safety_factor = robos_q[0] * robos_q[1] * robos_q[2] * robos_q[3]\n",
    "    return robos_q, safety_factor\n",
    "\n",
    "\n",
    "positions_after = [predict(p,v,100) for p,v in robos]\n",
    "quads, safety_factor = quadrants(positions_after)\n",
    "safety_factor\n"
   ]
  },
  {
   "cell_type": "markdown",
   "metadata": {},
   "source": [
    "### Part 2"
   ]
  },
  {
   "cell_type": "code",
   "execution_count": 3,
   "metadata": {},
   "outputs": [],
   "source": [
    "import numpy as np\n",
    "def print_robomap(positions):\n",
    "\n",
    "    room = np.zeros((H,W), dtype=int)\n",
    "    room = room.tolist()\n",
    "    for p in positions:\n",
    "        room[p[1]][p[0]] +=1\n",
    "    \n",
    "    rows = []\n",
    "    for row in room:\n",
    "        row = [str(v) if v!=0 else \".\" for v in row]\n",
    "        rows.append(\"\".join(row))\n",
    "    \n",
    "    return \"\\n\".join(rows)\n",
    "    \n",
    "\n",
    "positions = robos\n",
    "for t in range(10000):\n",
    "    positions = [predict(p,v,t) for p,v in robos]\n",
    "    robomap = print_robomap(positions)\n",
    "    if \"\\n\".join([\".\"*101]*2) in robomap:\n",
    "    # if \".\"*101 in robomap.split(\"\\n\"):\n",
    "        with open(f\"outputs/output{t}.txt\", \"w\") as f:\n",
    "            f.write(robomap)\n",
    "\n",
    "# solution: 6876"
   ]
  }
 ],
 "metadata": {
  "kernelspec": {
   "display_name": "aoc_env",
   "language": "python",
   "name": "python3"
  },
  "language_info": {
   "codemirror_mode": {
    "name": "ipython",
    "version": 3
   },
   "file_extension": ".py",
   "mimetype": "text/x-python",
   "name": "python",
   "nbconvert_exporter": "python",
   "pygments_lexer": "ipython3",
   "version": "3.10.11"
  }
 },
 "nbformat": 4,
 "nbformat_minor": 2
}
