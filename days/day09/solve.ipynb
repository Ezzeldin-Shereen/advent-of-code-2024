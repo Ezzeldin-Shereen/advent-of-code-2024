{
 "cells": [
  {
   "cell_type": "code",
   "execution_count": 1,
   "metadata": {},
   "outputs": [
    {
     "data": {
      "text/plain": [
       "19"
      ]
     },
     "execution_count": 1,
     "metadata": {},
     "output_type": "execute_result"
    }
   ],
   "source": [
    "import copy\n",
    "with open('input.txt', 'r') as f:\n",
    "    input = f.read()\n",
    "\n",
    "input = \"\"\"2333133121414131402\"\"\"\n",
    "\n",
    "input\n",
    "len(input)"
   ]
  },
  {
   "cell_type": "code",
   "execution_count": 2,
   "metadata": {},
   "outputs": [
    {
     "name": "stdout",
     "output_type": "stream",
     "text": [
      "0/42\n"
     ]
    },
    {
     "data": {
      "text/plain": [
       "1928"
      ]
     },
     "execution_count": 2,
     "metadata": {},
     "output_type": "execute_result"
    }
   ],
   "source": [
    "def memory_string(input:str):\n",
    "    mem_list = []\n",
    "    for i, val in enumerate(input):\n",
    "        if i%2 == 0: # file\n",
    "            id = i//2\n",
    "            mem_list.extend( [str(id)] * int(val) )\n",
    "        else: # empty\n",
    "            mem_list.extend ( [\".\"] * int(val))\n",
    "    return mem_list\n",
    "\n",
    "def num_extreme_chars(l, char, is_end=True):\n",
    "    # returns the number of empty spaces on either end of the memory\n",
    "    count=0\n",
    "    if is_end:\n",
    "        l = reversed(l)\n",
    "    for i in l:\n",
    "        if i == char:\n",
    "            count += 1\n",
    "        else: break\n",
    "    return count\n",
    "            \n",
    "def move_blocks(m_list: list):\n",
    "    mem_list = copy.copy(m_list)\n",
    "    num_moved = 1\n",
    "    for i in range(len(mem_list)):\n",
    "        if i%1000 == 0: print(f\"{i}/{len(mem_list)}\")\n",
    "\n",
    "        if mem_list[i] == \".\":\n",
    "            num_moved = num_extreme_chars(mem_list, '.', is_end=True) +1\n",
    "            mem_list[i] = mem_list[-num_moved]\n",
    "            mem_list[-num_moved] = '.'\n",
    "        if i>= len(mem_list) - num_moved -1:\n",
    "            break\n",
    "    return mem_list\n",
    "\n",
    "def mem_checksum(mem_list: list):\n",
    "    mem_list_modified = [elem if elem!=\".\" else '0' for elem in mem_list]\n",
    "    return sum([i*int(elem) for i, elem in enumerate(mem_list_modified)])\n",
    "\n",
    "\n",
    "memory_list = memory_string(input)\n",
    "ordered_mem = move_blocks(memory_list)\n",
    "mem_checksum(ordered_mem)"
   ]
  },
  {
   "cell_type": "markdown",
   "metadata": {},
   "source": [
    "### Part 2"
   ]
  },
  {
   "cell_type": "code",
   "execution_count": 3,
   "metadata": {},
   "outputs": [
    {
     "name": "stdout",
     "output_type": "stream",
     "text": [
      "Succees! Moving the file at location 40 of size 2 to location 2\n",
      "Succees! Moving the file at location 32 of size 3 to location 8\n",
      "Succees! Moving the file at location 19 of size 2 to location 12\n",
      "Succees! Moving the file at location 11 of size 1 to location 4\n"
     ]
    },
    {
     "data": {
      "text/plain": [
       "2858"
      ]
     },
     "execution_count": 3,
     "metadata": {},
     "output_type": "execute_result"
    }
   ],
   "source": [
    "empty_val = -1 # it was \".\" --> changed it because working with list[int] is faster than list[str]\n",
    "\n",
    "def first_empty_after_idx(l: list, ix: int):\n",
    "    # returns the index of the start of the next empty space (after `ix`), as well as the size of empty space\n",
    "    ls = l[ix:]\n",
    "    i = ls.index(empty_val)\n",
    "    block_size = num_extreme_chars(ls[i:], empty_val, is_end=False)\n",
    "    return ix+i, block_size\n",
    "\n",
    "def first_file_before_idx(l: list, ix: int):\n",
    "    # returns the final index of the previous file (before `ix`), as well as the size of the file\n",
    "    ls = l[:ix]\n",
    "    for i, id in enumerate(reversed(ls)):\n",
    "        if id != empty_val:\n",
    "            break\n",
    "    block_size = num_extreme_chars(ls[:len(ls)-i], id, is_end=True)\n",
    "    return  ix-i, block_size\n",
    "    \n",
    "\n",
    "def move_files2(m_list: list):\n",
    "    # we keep indices for forward and backward passes (fix, bix)\n",
    "    mem_list = [empty_val if val==\".\" else int(val) for val in m_list]\n",
    "    bix = len(mem_list)\n",
    "    while bix > 0:\n",
    "        fix = 0\n",
    "        file_idx, file_size = first_file_before_idx(mem_list, bix)\n",
    "        while fix < bix:\n",
    "            empty_idx, empty_size = first_empty_after_idx(mem_list, fix)\n",
    "            success = (empty_size >= file_size) and (empty_idx < file_idx)\n",
    "            if success:\n",
    "                print(f\"Succees! Moving the file at location {file_idx-file_size} of size {file_size} to location {empty_idx}\")\n",
    "                mem_list[empty_idx:empty_idx+file_size] = mem_list[file_idx-file_size:file_idx]\n",
    "                mem_list[file_idx-file_size:file_idx] = [empty_val]*file_size\n",
    "                bix = file_idx-file_size\n",
    "                break\n",
    "            if (empty_idx >= file_idx):\n",
    "                bix = file_idx-file_size\n",
    "                break\n",
    "            fix = empty_idx+empty_size\n",
    "    mem_list = [\".\" if val == -1 else str(val) for val in mem_list]\n",
    "    return mem_list\n",
    "\n",
    "\n",
    "mem_optimized = move_files2(memory_list)\n",
    "mem_checksum(mem_optimized)"
   ]
  }
 ],
 "metadata": {
  "kernelspec": {
   "display_name": "aoc_env",
   "language": "python",
   "name": "python3"
  },
  "language_info": {
   "codemirror_mode": {
    "name": "ipython",
    "version": 3
   },
   "file_extension": ".py",
   "mimetype": "text/x-python",
   "name": "python",
   "nbconvert_exporter": "python",
   "pygments_lexer": "ipython3",
   "version": "3.10.11"
  }
 },
 "nbformat": 4,
 "nbformat_minor": 2
}
