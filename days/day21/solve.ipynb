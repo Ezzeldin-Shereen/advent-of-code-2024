{
 "cells": [
  {
   "cell_type": "code",
   "execution_count": 8,
   "metadata": {},
   "outputs": [
    {
     "data": {
      "text/plain": [
       "['083A', '935A', '964A', '149A', '789A']"
      ]
     },
     "execution_count": 8,
     "metadata": {},
     "output_type": "execute_result"
    }
   ],
   "source": [
    "with open(\"input.txt\", 'r') as f:\n",
    "    input = f.read()\n",
    "\n",
    "input1 = \"\"\"029A\n",
    "980A\n",
    "179A\n",
    "456A\n",
    "379A\"\"\"\n",
    "\n",
    "codes = input.split(\"\\n\")\n",
    "codes"
   ]
  },
  {
   "cell_type": "code",
   "execution_count": 9,
   "metadata": {},
   "outputs": [],
   "source": [
    "def loc_dict(keypad: list):\n",
    "    locs = {}\n",
    "    for i, row in enumerate(keypad):\n",
    "        for j, cell in enumerate(row):\n",
    "            locs[cell] = (i,j)\n",
    "    return locs\n",
    "\n",
    "##############################\n",
    "# +---+---+---+\n",
    "# | 7 | 8 | 9 |\n",
    "# +---+---+---+\n",
    "# | 4 | 5 | 6 |\n",
    "# +---+---+---+\n",
    "# | 1 | 2 | 3 |\n",
    "# +---+---+---+\n",
    "#     | 0 | A |\n",
    "#     +---+---+\n",
    "# the magic value is 2 (intermediate value to avoid going to the empty key)\n",
    "NUMERIC_KEYPAD = [[\"7\", \"8\", \"9\"],\n",
    "                  [\"4\", \"5\", \"6\"],\n",
    "                  [\"1\", \"2\", \"3\"],\n",
    "                  [\"#\", \"0\", \"A\"]]\n",
    "NUMERIC_LOCS = loc_dict(NUMERIC_KEYPAD)\n",
    "\n",
    "##############################\n",
    "#     +---+---+\n",
    "#     | ^ | A |\n",
    "# +---+---+---+\n",
    "# | < | v | > |\n",
    "# +---+---+---+\n",
    "# the magic value is v\n",
    "\n",
    "DIRECTION_KEYPAD = [[\"#\", \"^\", \"A\"],\n",
    "                    [\"<\", \"v\", \">\"]]\n",
    "DIRECTION_LOCS = loc_dict(DIRECTION_KEYPAD)\n",
    "\n",
    "#############################\n",
    "KEYPADS = [NUMERIC_KEYPAD, DIRECTION_KEYPAD]\n",
    "LOCATIONS = [NUMERIC_LOCS, DIRECTION_LOCS]\n",
    "\n",
    "NUM_DIR_KEYPADS = 3\n",
    "##############################\n",
    "\n",
    "\n",
    "def get_complexity_sum(code_values: list, seq_lens: list):\n",
    "    return sum([v*l for v, l in zip(code_values, seq_lens)])\n",
    "\n",
    "    "
   ]
  },
  {
   "cell_type": "markdown",
   "metadata": {},
   "source": [
    "### Part 1 & 2"
   ]
  },
  {
   "cell_type": "code",
   "execution_count": 10,
   "metadata": {},
   "outputs": [
    {
     "name": "stdout",
     "output_type": "stream",
     "text": [
      "0\n",
      "1\n",
      "2\n",
      "3\n",
      "4\n",
      "Sequence Lengths: [80732180764, 86475783010, 85006969638, 91059074548, 80786362260]\n",
      "Numeric Parts: [83, 935, 964, 149, 789]\n"
     ]
    },
    {
     "data": {
      "text/plain": [
       "246810588779586"
      ]
     },
     "execution_count": 10,
     "metadata": {},
     "output_type": "execute_result"
    }
   ],
   "source": [
    "CACHE = {}\n",
    "\n",
    "DIRECTIONS = [(-1,0), # up\n",
    "              (0,1),  # right\n",
    "              (1,0),\n",
    "              (0,-1)]\n",
    "\n",
    "DIR_2_STR = {\n",
    "    (-1,0): \"^\",\n",
    "    (0,1): \">\",\n",
    "    (1,0): \"v\",\n",
    "    (0,-1): \"<\",\n",
    "}\n",
    "\n",
    "def all_paths(prev, next, keypad_idx, max_steps=5):\n",
    "    keypad = KEYPADS[keypad_idx]\n",
    "    if prev == next: return [\"\"]\n",
    "    if max_steps == 0: return []\n",
    "    output_paths = []\n",
    "    for dir in DIRECTIONS:\n",
    "        new_loc = prev[0]+dir[0], prev[1]+dir[1]\n",
    "        if new_loc[0] not in range(len(keypad)) or new_loc[1] not in range(len(keypad[0])): continue\n",
    "        if keypad[new_loc[0]][new_loc[1]] == \"#\": continue\n",
    "        paths = all_paths(new_loc, next, keypad_idx, max_steps-1)\n",
    "        output_paths.extend( [DIR_2_STR[dir] + path for path in paths] )\n",
    "    return output_paths\n",
    "\n",
    "def get_sequences(seq_in, keypad_idx, layer=3):\n",
    "    keypad = KEYPADS[keypad_idx]\n",
    "    locations = LOCATIONS[keypad_idx]\n",
    "    if layer == 0:\n",
    "        CACHE[(seq_in, layer)] = len(seq_in)\n",
    "        return len(seq_in)\n",
    "    if CACHE.get((seq_in, layer), -1) != -1:\n",
    "        return CACHE[(seq_in, layer)]\n",
    "    tot_len = 0\n",
    "    for prev, next in zip(\"A\"+seq_in, (\"A\"+seq_in)[1:]):\n",
    "        prev_loc, next_loc = locations[prev], locations[next]\n",
    "        ps = all_paths(prev_loc, next_loc, keypad_idx)\n",
    "        outs, lens = [], []\n",
    "        for p in ps:\n",
    "            l = get_sequences(p+\"A\", keypad_idx=1, layer=layer-1)\n",
    "            lens.append(l)\n",
    "        min_len = min(lens)\n",
    "        \n",
    "        tot_len += min_len\n",
    "\n",
    "    CACHE[(seq_in, layer)] = tot_len\n",
    "    return tot_len\n",
    "\n",
    "def all_codes_rec(codes: list[str], num_layers: int):\n",
    "    global CACHE\n",
    "    my_ls = []\n",
    "    CACHE = {}\n",
    "    for i, code in enumerate(codes):\n",
    "        print(i)\n",
    "        l = get_sequences(code, keypad_idx=0, layer=num_layers)\n",
    "        my_ls.append(l)\n",
    "    return my_ls\n",
    "\n",
    "\n",
    "NUM_LAYERS = 26 # it was 3 in part 1, 26 in part 2\n",
    "# get_sequences(\"<A\",  keypad_idx=1, layer=1)\n",
    "# get_sequences(\"029A\", keypad_idx=0, layer=3)\n",
    "lens = all_codes_rec(codes, num_layers=NUM_LAYERS)\n",
    "\n",
    "code_values = [int(code[:-1]) for code in codes]\n",
    "print(f\"Sequence Lengths: {lens}\")\n",
    "print(f\"Numeric Parts: {code_values}\")\n",
    "get_complexity_sum(code_values, lens)"
   ]
  }
 ],
 "metadata": {
  "kernelspec": {
   "display_name": "aoc_env",
   "language": "python",
   "name": "python3"
  },
  "language_info": {
   "codemirror_mode": {
    "name": "ipython",
    "version": 3
   },
   "file_extension": ".py",
   "mimetype": "text/x-python",
   "name": "python",
   "nbconvert_exporter": "python",
   "pygments_lexer": "ipython3",
   "version": "3.10.11"
  }
 },
 "nbformat": 4,
 "nbformat_minor": 2
}
