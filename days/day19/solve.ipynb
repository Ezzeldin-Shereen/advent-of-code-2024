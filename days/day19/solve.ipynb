{
 "cells": [
  {
   "cell_type": "code",
   "execution_count": 1,
   "metadata": {},
   "outputs": [
    {
     "data": {
      "text/plain": [
       "(447, 400)"
      ]
     },
     "execution_count": 1,
     "metadata": {},
     "output_type": "execute_result"
    }
   ],
   "source": [
    "with open(\"input.txt\", 'r') as f:\n",
    "    input = f.read()\n",
    "\n",
    "input1 = \"\"\"r, wr, b, g, bwu, rb, gb, br\n",
    "\n",
    "brwrr\n",
    "bggr\n",
    "gbbr\n",
    "rrbgbr\n",
    "ubwu\n",
    "bwurrg\n",
    "brgr\n",
    "bbrgwb\"\"\"\n",
    "\n",
    "patterns, designs = input.split(\"\\n\\n\")[0].split(\", \"), input.split(\"\\n\\n\")[1].split(\"\\n\")\n",
    "len(patterns), len(designs)"
   ]
  },
  {
   "cell_type": "code",
   "execution_count": 2,
   "metadata": {},
   "outputs": [
    {
     "data": {
      "text/plain": [
       "333"
      ]
     },
     "execution_count": 2,
     "metadata": {},
     "output_type": "execute_result"
    }
   ],
   "source": [
    "def check_design(design, patterns):\n",
    "    for pattern in patterns:\n",
    "        idx = design.find(pattern)\n",
    "        if idx == 0 and len(pattern) == len(design):\n",
    "            return True\n",
    "        if idx == 0:\n",
    "            res = check_design(design[len(pattern):], patterns)\n",
    "            if res == True: return True\n",
    "    return False\n",
    "\n",
    "\n",
    "def check_designs(designs, patterns):\n",
    "    possibles = []\n",
    "    for i, design in enumerate(designs):\n",
    "        possibles.append(check_design(design, patterns))\n",
    "    return possibles\n",
    "\n",
    "designs_possible = check_designs(designs, patterns)\n",
    "sum(designs_possible)"
   ]
  },
  {
   "cell_type": "markdown",
   "metadata": {},
   "source": [
    "### Part 2"
   ]
  },
  {
   "cell_type": "code",
   "execution_count": 3,
   "metadata": {},
   "outputs": [
    {
     "data": {
      "text/plain": [
       "678536865274732"
      ]
     },
     "execution_count": 3,
     "metadata": {},
     "output_type": "execute_result"
    }
   ],
   "source": [
    "# global variable for previously solved sub-designs (from left) \n",
    "previously_solved = {}\n",
    "\n",
    "\n",
    "\n",
    "def check_designs2(designs, patterns):\n",
    "    global previously_solved\n",
    "    sum_possibles = 0\n",
    "    previously_solved = {}\n",
    "    for i, design in enumerate(designs):\n",
    "        reduced_patterns = [pattern for pattern in patterns if pattern in design]\n",
    "        num_possibles = check_design2_wrapper(design, reduced_patterns)\n",
    "        sum_possibles += num_possibles\n",
    "        \n",
    "    return sum_possibles\n",
    "\n",
    "def check_design2(design, patterns):\n",
    "    global previously_solved\n",
    "    num_working = 0\n",
    "\n",
    "    for pattern in patterns:\n",
    "        idx = design.find(pattern)\n",
    "        if idx != 0: continue\n",
    "        if idx == 0 and len(pattern) == len(design):\n",
    "            num_working += 1\n",
    "            continue\n",
    "        if idx == 0:\n",
    "            remaining_len = len(design)-len(pattern)\n",
    "            previous_solution = previously_solved.get(remaining_len, -1)\n",
    "            if previous_solution == -1:\n",
    "                result = check_design2(design[len(pattern):], patterns)\n",
    "                num_working += result\n",
    "                previously_solved[remaining_len] = result\n",
    "            else:\n",
    "                num_working += previous_solution\n",
    "    return num_working\n",
    "\n",
    "def check_design2_wrapper(design, patterns):\n",
    "    global previously_solved\n",
    "    for i in range(len(design)):\n",
    "        # gradually expand from left\n",
    "        des = design[len(design)-i-1:]\n",
    "        reduced_patterns = [pattern for pattern in patterns if pattern in des]\n",
    "        previously_solved[i+1] = check_design2(des, reduced_patterns)\n",
    "    return previously_solved[len(design)]\n",
    "\n",
    "\n",
    "check_designs2(designs, patterns)"
   ]
  }
 ],
 "metadata": {
  "kernelspec": {
   "display_name": "aoc_env",
   "language": "python",
   "name": "python3"
  },
  "language_info": {
   "codemirror_mode": {
    "name": "ipython",
    "version": 3
   },
   "file_extension": ".py",
   "mimetype": "text/x-python",
   "name": "python",
   "nbconvert_exporter": "python",
   "pygments_lexer": "ipython3",
   "version": "3.10.11"
  }
 },
 "nbformat": 4,
 "nbformat_minor": 2
}
