{
 "cells": [
  {
   "cell_type": "code",
   "execution_count": 1,
   "metadata": {},
   "outputs": [],
   "source": [
    "import numpy as np\n",
    "import re\n",
    "\n",
    "with open(\"input.txt\", \"r\") as f:\n",
    "    input = f.read()\n",
    "input\n",
    "\n",
    "input2 = \"\"\"MMMSXXMASM\n",
    "MSAMXMSMSA\n",
    "AMXSXMAAMM\n",
    "MSAMASMSMX\n",
    "XMASAMXAMM\n",
    "XXAMMXXAMA\n",
    "SMSMSASXSS\n",
    "SAXAMASAAA\n",
    "MAMMMXMMMM\n",
    "MXMXAXMASX\"\"\"\n",
    "\n",
    "strings_to_find = [\"XMAS\", \"SAMX\"]\n",
    "shorter_strings_to_find = [\"MAS\", \"SAM\"]"
   ]
  },
  {
   "cell_type": "code",
   "execution_count": 2,
   "metadata": {},
   "outputs": [
    {
     "data": {
      "text/plain": [
       "838"
      ]
     },
     "execution_count": 2,
     "metadata": {},
     "output_type": "execute_result"
    }
   ],
   "source": [
    "def lines_to_arr(lines: list) -> np.array:\n",
    "    arr = np.array([list(s) for s in lines])\n",
    "    return arr\n",
    "\n",
    "def diagonal_strings(arr: np.array) -> list[str]:\n",
    "    diagonal_list_arr_inv = [arr[::-1,:].diagonal(i) for i in range(-arr.shape[0]+1,arr.shape[0])]\n",
    "    diagonal_list_arr_frw = [arr.diagonal(i) for i in range(-arr.shape[0]+1,arr.shape[0])]\n",
    "    diagonal_list_arr = diagonal_list_arr_frw + diagonal_list_arr_inv\n",
    "    diagonal_list = [\"\".join(list(diag)) for diag in diagonal_list_arr]\n",
    "    return diagonal_list\n",
    "\n",
    "\n",
    "base_lines = input.split(\"\\n\")\n",
    "arr = lines_to_arr(base_lines)\n",
    "diag_strs = diagonal_strings(arr)\n",
    "\n",
    "horz_strs = base_lines\n",
    "vert_strs = list(arr.transpose())\n",
    "vert_strs = [\"\".join(list(line)) for line in vert_strs]\n",
    "\n",
    "all_strs = horz_strs + vert_strs + diag_strs\n",
    "len(all_strs)"
   ]
  },
  {
   "cell_type": "code",
   "execution_count": 3,
   "metadata": {},
   "outputs": [
    {
     "data": {
      "text/plain": [
       "2504"
      ]
     },
     "execution_count": 3,
     "metadata": {},
     "output_type": "execute_result"
    }
   ],
   "source": [
    "all_finds = []\n",
    "for chars in all_strs:\n",
    "    all_finds.extend(re.findall(f\"{strings_to_find[0]}\", chars))\n",
    "    all_finds.extend(re.findall(f\"{strings_to_find[1]}\", chars))\n",
    "len(all_finds)\n"
   ]
  },
  {
   "cell_type": "markdown",
   "metadata": {},
   "source": [
    "### Part 2"
   ]
  },
  {
   "cell_type": "code",
   "execution_count": 4,
   "metadata": {},
   "outputs": [
    {
     "data": {
      "text/plain": [
       "1923"
      ]
     },
     "execution_count": 4,
     "metadata": {},
     "output_type": "execute_result"
    }
   ],
   "source": [
    "def kernel_check(three_by_three: np.array) -> bool:\n",
    "    diag1_str = \"\".join(three_by_three.diagonal())\n",
    "    diag2_str = \"\".join(three_by_three[::-1,:].diagonal())\n",
    "    if diag1_str in shorter_strings_to_find and diag2_str in shorter_strings_to_find:\n",
    "        return True\n",
    "    return False\n",
    "\n",
    "def check_xmas(full_arr):\n",
    "    n = full_arr.shape[0]\n",
    "    matches = []\n",
    "    for i in range(n-2):\n",
    "        for j in range(n-2):\n",
    "            matches.append(kernel_check(full_arr[i:i+3,j:j+3]))\n",
    "    return matches\n",
    "\n",
    "sum(check_xmas(arr))"
   ]
  }
 ],
 "metadata": {
  "kernelspec": {
   "display_name": "aoc_env",
   "language": "python",
   "name": "python3"
  },
  "language_info": {
   "codemirror_mode": {
    "name": "ipython",
    "version": 3
   },
   "file_extension": ".py",
   "mimetype": "text/x-python",
   "name": "python",
   "nbconvert_exporter": "python",
   "pygments_lexer": "ipython3",
   "version": "3.10.11"
  }
 },
 "nbformat": 4,
 "nbformat_minor": 2
}
