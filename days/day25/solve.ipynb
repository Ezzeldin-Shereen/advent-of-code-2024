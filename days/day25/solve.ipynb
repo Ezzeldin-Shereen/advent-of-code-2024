{
 "cells": [
  {
   "cell_type": "code",
   "execution_count": 1,
   "metadata": {},
   "outputs": [],
   "source": [
    "import numpy as np\n",
    "\n",
    "with open(\"input.txt\", 'r') as f:\n",
    "    input = f.read()\n",
    "\n",
    "input1 = \"\"\"#####\n",
    ".####\n",
    ".####\n",
    ".####\n",
    ".#.#.\n",
    ".#...\n",
    ".....\n",
    "\n",
    "#####\n",
    "##.##\n",
    ".#.##\n",
    "...##\n",
    "...#.\n",
    "...#.\n",
    ".....\n",
    "\n",
    ".....\n",
    "#....\n",
    "#....\n",
    "#...#\n",
    "#.#.#\n",
    "#.###\n",
    "#####\n",
    "\n",
    ".....\n",
    ".....\n",
    "#.#..\n",
    "###..\n",
    "###.#\n",
    "###.#\n",
    "#####\n",
    "\n",
    ".....\n",
    ".....\n",
    ".....\n",
    "#....\n",
    "#.#..\n",
    "#.#.#\n",
    "#####\"\"\"\n",
    "\n",
    "blocks = input.split(\"\\n\\n\")\n",
    "keys, locks = [], []\n",
    "for item in blocks:\n",
    "    lines = item.split(\"\\n\")\n",
    "    if lines[0] == \".\"*5:\n",
    "        keys.append(np.array([list(l) for l in lines[1:-1]]))\n",
    "    elif lines[0] == \"#\"*5:\n",
    "        locks.append(np.array([list(l) for l in lines[1:-1]]))"
   ]
  },
  {
   "cell_type": "code",
   "execution_count": 2,
   "metadata": {},
   "outputs": [],
   "source": [
    "# reduce their representation to a list of depths\n",
    "def reduce(item, char):\n",
    "    it = item.transpose()\n",
    "    return [int(sum(line == char)) for line in it]\n",
    "\n",
    "locks_reduced = [reduce(lock, \"#\") for lock in locks]\n",
    "keys_reduced = [reduce(key, \"#\") for key in keys]"
   ]
  },
  {
   "cell_type": "code",
   "execution_count": 3,
   "metadata": {},
   "outputs": [
    {
     "data": {
      "text/plain": [
       "3065"
      ]
     },
     "execution_count": 3,
     "metadata": {},
     "output_type": "execute_result"
    }
   ],
   "source": [
    "def check_overlap(key, lock):\n",
    "    return any([k+l>5 for k,l in zip(key, lock)])\n",
    "\n",
    "fitting = 0\n",
    "for key in keys_reduced:\n",
    "    for lock in locks_reduced:\n",
    "        if not check_overlap(key, lock):\n",
    "            fitting += 1\n",
    "fitting"
   ]
  },
  {
   "cell_type": "markdown",
   "metadata": {},
   "source": [
    "### Part 2"
   ]
  },
  {
   "cell_type": "markdown",
   "metadata": {},
   "source": [
    "No part 2 in the last day !!! :)"
   ]
  }
 ],
 "metadata": {
  "kernelspec": {
   "display_name": "aoc_env",
   "language": "python",
   "name": "python3"
  },
  "language_info": {
   "codemirror_mode": {
    "name": "ipython",
    "version": 3
   },
   "file_extension": ".py",
   "mimetype": "text/x-python",
   "name": "python",
   "nbconvert_exporter": "python",
   "pygments_lexer": "ipython3",
   "version": "3.10.11"
  }
 },
 "nbformat": 4,
 "nbformat_minor": 2
}
