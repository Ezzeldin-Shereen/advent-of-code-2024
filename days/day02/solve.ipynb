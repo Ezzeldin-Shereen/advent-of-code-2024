{
 "cells": [
  {
   "cell_type": "markdown",
   "metadata": {},
   "source": [
    "### Read File"
   ]
  },
  {
   "cell_type": "code",
   "execution_count": 1,
   "metadata": {},
   "outputs": [],
   "source": [
    "with open(\"input.txt\", \"r\") as f:\n",
    "    lines = f.readlines()\n",
    "lines\n",
    "reports = [list(map(int, line.rstrip().split(\" \"))) for line in lines]"
   ]
  },
  {
   "cell_type": "markdown",
   "metadata": {},
   "source": [
    "### Per-report function"
   ]
  },
  {
   "cell_type": "code",
   "execution_count": 2,
   "metadata": {},
   "outputs": [
    {
     "data": {
      "text/plain": [
       "False"
      ]
     },
     "execution_count": 2,
     "metadata": {},
     "output_type": "execute_result"
    }
   ],
   "source": [
    "def is_safe_report(report: list[int]) -> bool:\n",
    "    direction = 0\n",
    "    for i, _ in enumerate(report[:-1]):\n",
    "        before = report[i]\n",
    "        after = report[i+1]\n",
    "        if abs(after-before) > 3 or after == before:\n",
    "            return False\n",
    "        direction += (after-before) / (abs(after-before))\n",
    "        if abs(direction) < i+1:\n",
    "            return False\n",
    "    return True\n",
    "\n",
    "is_safe_report(reports[2])"
   ]
  },
  {
   "cell_type": "code",
   "execution_count": 3,
   "metadata": {},
   "outputs": [
    {
     "data": {
      "text/plain": [
       "371"
      ]
     },
     "execution_count": 3,
     "metadata": {},
     "output_type": "execute_result"
    }
   ],
   "source": [
    "sum([is_safe_report(report) for report in reports])"
   ]
  },
  {
   "cell_type": "markdown",
   "metadata": {},
   "source": [
    "### Part 2"
   ]
  },
  {
   "cell_type": "code",
   "execution_count": 4,
   "metadata": {},
   "outputs": [
    {
     "data": {
      "text/plain": [
       "426"
      ]
     },
     "execution_count": 4,
     "metadata": {},
     "output_type": "execute_result"
    }
   ],
   "source": [
    "## safe tolerant function\n",
    "def is_safe_report_tolerate(report: list[int]) -> bool:\n",
    "    if is_safe_report(report): return True\n",
    "    for i in range(len(report)):\n",
    "        report_minus = report[:i] + report[i+1:]\n",
    "        if is_safe_report(report_minus): return True\n",
    "    return False\n",
    "\n",
    "sum([is_safe_report_tolerate(report) for report in reports])"
   ]
  }
 ],
 "metadata": {
  "kernelspec": {
   "display_name": "aoc_env",
   "language": "python",
   "name": "python3"
  },
  "language_info": {
   "codemirror_mode": {
    "name": "ipython",
    "version": 3
   },
   "file_extension": ".py",
   "mimetype": "text/x-python",
   "name": "python",
   "nbconvert_exporter": "python",
   "pygments_lexer": "ipython3",
   "version": "3.10.11"
  }
 },
 "nbformat": 4,
 "nbformat_minor": 2
}
